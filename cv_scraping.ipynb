{
  "nbformat": 4,
  "nbformat_minor": 0,
  "metadata": {
    "colab": {
      "name": "cv_scraping.ipynb",
      "provenance": [],
      "collapsed_sections": [],
      "include_colab_link": true
    },
    "kernelspec": {
      "name": "python3",
      "display_name": "Python 3"
    },
    "language_info": {
      "name": "python"
    }
  },
  "cells": [
    {
      "cell_type": "markdown",
      "metadata": {
        "id": "view-in-github",
        "colab_type": "text"
      },
      "source": [
        "<a href=\"https://colab.research.google.com/github/UrieLBadilloG/AlgoritmoBusqueda/blob/main/cv_scraping.ipynb\" target=\"_parent\"><img src=\"https://colab.research.google.com/assets/colab-badge.svg\" alt=\"Open In Colab\"/></a>"
      ]
    },
    {
      "cell_type": "markdown",
      "source": [
        "# Extraer texto de archivos PDF"
      ],
      "metadata": {
        "id": "Q3uD2Bb1UAS-"
      }
    },
    {
      "cell_type": "code",
      "source": [
        "!pip install pdfminer.six # What ! actually does is, it tells the notebook cell that this line is not a Python code, its a command line script. \n",
        "!pip install nltk"
      ],
      "metadata": {
        "colab": {
          "base_uri": "https://localhost:8080/"
        },
        "id": "GKFzciXHZEJB",
        "outputId": "b29eaec8-5808-44c4-d9a6-f2c36c075477"
      },
      "execution_count": null,
      "outputs": [
        {
          "output_type": "stream",
          "name": "stdout",
          "text": [
            "Looking in indexes: https://pypi.org/simple, https://us-python.pkg.dev/colab-wheels/public/simple/\n",
            "Collecting pdfminer.six\n",
            "  Downloading pdfminer.six-20220524-py3-none-any.whl (5.6 MB)\n",
            "\u001b[K     |████████████████████████████████| 5.6 MB 4.2 MB/s \n",
            "\u001b[?25hCollecting cryptography>=36.0.0\n",
            "  Downloading cryptography-37.0.2-cp36-abi3-manylinux_2_24_x86_64.whl (4.0 MB)\n",
            "\u001b[K     |████████████████████████████████| 4.0 MB 32.7 MB/s \n",
            "\u001b[?25hRequirement already satisfied: charset-normalizer>=2.0.0 in /usr/local/lib/python3.7/dist-packages (from pdfminer.six) (2.0.12)\n",
            "Requirement already satisfied: cffi>=1.12 in /usr/local/lib/python3.7/dist-packages (from cryptography>=36.0.0->pdfminer.six) (1.15.0)\n",
            "Requirement already satisfied: pycparser in /usr/local/lib/python3.7/dist-packages (from cffi>=1.12->cryptography>=36.0.0->pdfminer.six) (2.21)\n",
            "Installing collected packages: cryptography, pdfminer.six\n",
            "Successfully installed cryptography-37.0.2 pdfminer.six-20220524\n",
            "Looking in indexes: https://pypi.org/simple, https://us-python.pkg.dev/colab-wheels/public/simple/\n",
            "Requirement already satisfied: nltk in /usr/local/lib/python3.7/dist-packages (3.7)\n",
            "Requirement already satisfied: regex>=2021.8.3 in /usr/local/lib/python3.7/dist-packages (from nltk) (2022.6.2)\n",
            "Requirement already satisfied: click in /usr/local/lib/python3.7/dist-packages (from nltk) (7.1.2)\n",
            "Requirement already satisfied: tqdm in /usr/local/lib/python3.7/dist-packages (from nltk) (4.64.0)\n",
            "Requirement already satisfied: joblib in /usr/local/lib/python3.7/dist-packages (from nltk) (1.1.0)\n"
          ]
        }
      ]
    },
    {
      "cell_type": "code",
      "execution_count": null,
      "metadata": {
        "id": "t-W22w2bro2r",
        "colab": {
          "base_uri": "https://localhost:8080/"
        },
        "outputId": "f04a9514-37cd-49b5-ad5c-b18e90a81405"
      },
      "outputs": [
        {
          "output_type": "stream",
          "name": "stdout",
          "text": [
            "Gabriel López \n",
            "\n",
            "TELEMATICS ENGINEERING  ·  INSTITUTO POLITÉCNICO NACIONAL \n",
            "\n",
            "+52 962 170 5117    |          gla280900@gmail.com    |     \n",
            "\n",
            " GabrielLopAg    |     \n",
            "\n",
            " Gabriel López \n",
            "\n",
            "About Me   \n",
            "Programming  C  ·  Python  ·  Bash \n",
            "\n",
            "Analytics  Pandas ·  NumPy  ·  SQL  ·  R ·  MatLab \n",
            "       Web  Django · HTML/CSS/JavaScript   \n",
            "\n",
            " Version Control  Git · GitHub \n",
            "\n",
            "Education   \n",
            "Instituto Politécnico Nacional \n",
            "\n",
            "BACHELOR’S DEGREE IN TELEMATICS ENGINEERING \n",
            "•  Member at Google DSC IPN - UPIITA  \n",
            "•  Member at Open Source – UPIITA  \n",
            "•  Member at Algorithms Club – UPIITA \n",
            "\n",
            "Experience   \n",
            "\n",
            "Mexico, CDMX \n",
            "\n",
            "       Aug. 2019 – Jun. 2024 \n",
            "\n",
            "Freelance Web Developer \n",
            "•  Worked like a full stack developer creating a system of point of sale. This is a minimum viable product for a web system that  can \n",
            "\n",
            "Jan. 2021 – Jul. 2021 \n",
            "\n",
            "control the local store of a shop. \n",
            "\n",
            "•  It allows us to sell products, sell by quantity and by price, also it allows us to edit products, providers, sales, expenses, and \n",
            "\n",
            "generate reports of the warehouse and the sales of the store. \n",
            "\n",
            "•  It allows to have differents types of users and have user authentication. \n",
            "\n",
            "Competitions and Personal Projects   \n",
            "\n",
            "Hackathon AMI \n",
            "\n",
            "BACKEND DEVELOPER  \n",
            "•  Chrome browser extension used to generate corrections when detecting negative phrases. \n",
            "\n",
            "     November 2021 \n",
            "\n",
            "•  The azure Text Analytics service was implemented. \n",
            "\n",
            "•  I was in charge of the team to develop the hackathon solution using JavaScript for the extension design. \n",
            "\n",
            "Hackathon BBVA \n",
            "\n",
            "BACKEND DEVELOPER \n",
            "•  Web application that helps clients consider investing as a means to grow their savings in the medium-long term in order to \n",
            "\n",
            "                October 2021 \n",
            "\n",
            "improve their financial health.  \n",
            "\n",
            "•  Azure cloud solutions were implemented. \n",
            "\n",
            "•  In charge of a group of two persons in the backend operations related to the database (PostgreSQL). \n",
            "\n",
            "•  Developed in Python for the backend and JavaScript (with CSS) for the frontend. \n",
            "\n",
            "F1 race winners prediction model \n",
            "\n",
            "DATA SCIENTIST \n",
            "•  A model was developed to predict the possible 5 winners considering the driver, the team, and the manufacturer. \n",
            "•  Six different algorithms were compared to determine the best one to produce an accurate model. \n",
            "\n",
            "                 July 2021 \n",
            "\n",
            "Password Manager \n",
            "\n",
            "SOFTWARE DEVELOPER \n",
            "•  The app store and manage the passwords that a user has for various online accounts, the app also stores the passwords in an \n",
            "\n",
            "          February 2021 \n",
            "\n",
            "encrypted format and provide secure access to all the password information with the help of a master password. \n",
            "\n",
            "•  Built with Python and PostgreSQL. \n",
            "\n",
            "Course and Apprenticeships   \n",
            "•  Microsoft Azure Fundamentals – AZ-900 by Microsoft  \n",
            "•  Scrum Fundamentals Certified by SCRUMstudy \n",
            "•  Oracle Cloud Infrastructure Foundations Associate by Oracle (in course)  \n",
            "•  Machine Learning & Data Science A-Z by Udemy (in course) \n",
            "•  CS50’s Web Programming with Python and JavaScript by EDX (in course) \n",
            "\n",
            " \n",
            " \n",
            " \n",
            " \n",
            " \n",
            " \n",
            " \n",
            " \n",
            " \n",
            " \n",
            " \n",
            " \n",
            " \n",
            " \n",
            " \n",
            " \n",
            " \n",
            " \n",
            "\f\n"
          ]
        }
      ],
      "source": [
        "from pdfminer.high_level import extract_text\n",
        " \n",
        " \n",
        "def extract_text_from_pdf(pdf_path):\n",
        "    txt = extract_text(pdf_path)\n",
        "    if txt:\n",
        "        return txt.replace('\\t', ' ')\n",
        "    return None    \n",
        " \n",
        " \n",
        "print(extract_text_from_pdf('./resume.pdf'))"
      ]
    },
    {
      "cell_type": "markdown",
      "source": [
        "## Extrayendo el nombre del programador"
      ],
      "metadata": {
        "id": "fGwZrilcVaUz"
      }
    },
    {
      "cell_type": "code",
      "source": [
        "import nltk # This is where natural language processing comes into play. Installing a library called nltk (Natural Language Toolkit)\n",
        " \n",
        "nltk.download('punkt')\n",
        "nltk.download('averaged_perceptron_tagger')\n",
        "nltk.download('maxent_ne_chunker')\n",
        "nltk.download('words')\n",
        " \n",
        " \n",
        "def extract_names(txt):\n",
        "    person_names = []\n",
        " \n",
        "    for sent in nltk.sent_tokenize(txt):\n",
        "        for chunk in nltk.ne_chunk(nltk.pos_tag(nltk.word_tokenize(sent))):\n",
        "            if hasattr(chunk, 'label') and chunk.label() == 'PERSON':\n",
        "                person_names.append(\n",
        "                    ' '.join(chunk_leave[0] for chunk_leave in chunk.leaves())\n",
        "                )\n",
        " \n",
        "    return person_names\n",
        " \n",
        " \n",
        "text = extract_text_from_pdf('resume.pdf')\n",
        "names = extract_names(text)\n",
        "\n",
        "if names:\n",
        "    print(names[0],names[1])\n"
      ],
      "metadata": {
        "colab": {
          "base_uri": "https://localhost:8080/"
        },
        "id": "JF3ioBiCT-yN",
        "outputId": "31189e5b-615e-4f14-b8c2-e2f7f935c376"
      },
      "execution_count": null,
      "outputs": [
        {
          "output_type": "stream",
          "name": "stderr",
          "text": [
            "[nltk_data] Downloading package punkt to /root/nltk_data...\n",
            "[nltk_data]   Unzipping tokenizers/punkt.zip.\n",
            "[nltk_data] Downloading package averaged_perceptron_tagger to\n",
            "[nltk_data]     /root/nltk_data...\n",
            "[nltk_data]   Unzipping taggers/averaged_perceptron_tagger.zip.\n",
            "[nltk_data] Downloading package maxent_ne_chunker to\n",
            "[nltk_data]     /root/nltk_data...\n",
            "[nltk_data]   Unzipping chunkers/maxent_ne_chunker.zip.\n",
            "[nltk_data] Downloading package words to /root/nltk_data...\n",
            "[nltk_data]   Unzipping corpora/words.zip.\n"
          ]
        },
        {
          "output_type": "stream",
          "name": "stdout",
          "text": [
            "Gabriel López\n"
          ]
        }
      ]
    },
    {
      "cell_type": "markdown",
      "source": [
        "## Extraer habilidades de los currículos"
      ],
      "metadata": {
        "id": "ircQqlPlXQ9T"
      }
    },
    {
      "cell_type": "code",
      "source": [
        "nltk.download('stopwords')\n",
        " \n",
        "# Se puede agregar un dataset con palabras importantes\n",
        "SKILLS_DB = [\n",
        "    'machine learning',\n",
        "    'data science',\n",
        "    'python',\n",
        "    'sql',\n",
        "    'java',\n",
        "    'javascript',\n",
        "    'lidership',\n",
        "    'sql',\n",
        "    'word',\n",
        "    'excel',\n",
        "    'English',\n",
        "]\n",
        " \n",
        " \n",
        "def extract_skills(input_text):\n",
        "    stop_words = set(nltk.corpus.stopwords.words('english'))\n",
        "    word_tokens = nltk.tokenize.word_tokenize(input_text)\n",
        " \n",
        "    # remove the stop words\n",
        "    filtered_tokens = [w for w in word_tokens if w not in stop_words]\n",
        " \n",
        "    # remove the punctuation\n",
        "    filtered_tokens = [w for w in word_tokens if w.isalpha()]\n",
        " \n",
        "    # generate bigrams and trigrams (such as artificial intelligence)\n",
        "    bigrams_trigrams = list(map(' '.join, nltk.everygrams(filtered_tokens, 2, 3)))\n",
        " \n",
        "    # we create a set to keep the results in.\n",
        "    found_skills = set()\n",
        " \n",
        "    # we search for each token in our skills database\n",
        "    for token in filtered_tokens:\n",
        "        if token.lower() in SKILLS_DB:\n",
        "            found_skills.add(token)\n",
        " \n",
        "    # we search for each bigram and trigram in our skills database\n",
        "    for ngram in bigrams_trigrams:\n",
        "        if ngram.lower() in SKILLS_DB:\n",
        "            found_skills.add(ngram)\n",
        " \n",
        "    return found_skills\n",
        " \n",
        " \n",
        "# if __name__ == '__main__':\n",
        "text = extract_text_from_pdf('resume.pdf')\n",
        "skills = extract_skills(text)\n",
        "\n",
        "print(skills)"
      ],
      "metadata": {
        "colab": {
          "base_uri": "https://localhost:8080/"
        },
        "id": "gEmTI9cwVZl7",
        "outputId": "06237303-7d45-461a-b412-d1068c01eb4b"
      },
      "execution_count": null,
      "outputs": [
        {
          "output_type": "stream",
          "name": "stderr",
          "text": [
            "[nltk_data] Downloading package stopwords to /root/nltk_data...\n",
            "[nltk_data]   Unzipping corpora/stopwords.zip.\n"
          ]
        },
        {
          "output_type": "stream",
          "name": "stdout",
          "text": [
            "{'JavaScript', 'Python', 'SQL', 'Machine Learning', 'Data Science'}\n"
          ]
        }
      ]
    },
    {
      "cell_type": "code",
      "source": [
        "skills = list(skills)"
      ],
      "metadata": {
        "id": "lC6V_I-Qbpac"
      },
      "execution_count": null,
      "outputs": []
    },
    {
      "cell_type": "markdown",
      "source": [
        "## Conecto al servicio de Azure Bing Custom Search "
      ],
      "metadata": {
        "id": "RIv5g0OpYyIz"
      }
    },
    {
      "cell_type": "code",
      "source": [
        "import json\n",
        "import os\n",
        "from bs4 import BeautifulSoup as bs\n",
        "import requests \n",
        "\n",
        "subscriptionKey = \"0dd595e3aa964d3ca02c3562970adfa9\"\n",
        "endpoint = \"https://api.bing.microsoft.com/v7.0/custom/search\"\n",
        "customConfigId = '6492eae5-5a2b-48f7-b85e-aeac84351fe1'\n",
        "searchTerm = skills[0]\n",
        "\n",
        "url = endpoint + \"/?q=\" + searchTerm + \"&customconfig=\" + customConfigId\n",
        "\n",
        "r = requests.get(url, headers={'Ocp-Apim-Subscription-Key': subscriptionKey})\n",
        "# print(r.text)\n",
        "response = r.json()\n",
        "pages = response['webPages']\n",
        "results = pages['value']\n",
        "print(results)\n",
        "\n",
        "# for result in results[:10]:\n",
        "#   response = requests.get(result['url'])\n",
        "#   soup = bs(response.content, 'html.parser')\n",
        "#   text = soup.find('body').get_text().strip()\n",
        "#   cleaned_text = ' '.join(text.split('\\n'))\n",
        "#   cleaned_text = ' '.join(text.split())\n",
        "\n",
        "#   print(cleaned_text)\n",
        "#   break\n"
      ],
      "metadata": {
        "colab": {
          "base_uri": "https://localhost:8080/"
        },
        "id": "-6uAactZ5ki5",
        "outputId": "128f1979-380b-40ce-d9f1-39ba55b776e6"
      },
      "execution_count": null,
      "outputs": [
        {
          "output_type": "stream",
          "name": "stdout",
          "text": [
            "[{'id': 'https://api.bing.microsoft.com/api/v7/#WebPages.0', 'name': 'Bolsa de trabajo de Javascript jr $270,000 - 23 de junio, 2022 | Indeed ...', 'url': 'https://mx.indeed.com/Empleos-de-Javascript-jr-$270,000', 'urlPingSuffix': 'DevEx,5108.1', 'isFamilyFriendly': True, 'displayUrl': 'https://mx.indeed.com/Empleos-de-Javascript-jr-$270,000', 'snippet': '26 empleos de: Javascript jr $270,000 disponibles en Indeed.com. Bolsa de trabajo de Javascript jr $270,000 - 23 de junio, 2022 | Indeed.com México Saltar a Publicaciones de Empleo , Buscar', 'dateLastCrawled': '2022-06-23T16:07:00.0000000Z', 'fixedPosition': False, 'language': 'es', 'isNavigational': False}, {'id': 'https://api.bing.microsoft.com/api/v7/#WebPages.1', 'name': 'Empleos de Javascript jr en Metro Olímpica, CDMX', 'url': 'https://mx.indeed.com/Empleos-de-Javascript-jr-en-Metro-Ol%C3%ADmpica,-CDMX', 'urlPingSuffix': 'DevEx,5126.1', 'isFamilyFriendly': True, 'displayUrl': 'https://mx.indeed.com/Empleos-de-Javascript-jr-en-Metro-Olímpica,-CDMX', 'snippet': '70 empleos de: Javascript jr en Metro Olímpica, CDMX disponibles en Indeed.com. Saltar a Publicaciones de Empleo, Buscar. Buscar empleos. Evaluaciones de empresa. Puestos y Salarios. Crea un CV. Ingresar. Ingresar. Empresas / Publicar empleos. Inicio del contenido principal: Qué. Dónde ...', 'dateLastCrawled': '2022-06-22T11:40:00.0000000Z', 'fixedPosition': False, 'language': 'es', 'isNavigational': False}, {'id': 'https://api.bing.microsoft.com/api/v7/#WebPages.2', 'name': 'Bolsa de trabajo de Vuejs en Metro Olímpica, CDMX - 22 de junio, 2022 ...', 'url': 'https://mx.indeed.com/Empleos-de-Vuejs-en-Metro-Ol%C3%ADmpica,-CDMX', 'urlPingSuffix': 'DevEx,5143.1', 'isFamilyFriendly': True, 'displayUrl': 'https://mx.indeed.com/Empleos-de-Vuejs-en-Metro-Olímpica,-CDMX', 'snippet': '43 empleos de: Vuejs en Metro Olímpica, CDMX disponibles en Indeed.com.', 'dateLastCrawled': '2022-06-22T11:16:00.0000000Z', 'fixedPosition': False, 'language': 'es', 'isNavigational': False}, {'id': 'https://api.bing.microsoft.com/api/v7/#WebPages.3', 'name': 'Bolsa de trabajo de Vue js en Metro Olímpica, CDMX - 22 de junio, 2022 ...', 'url': 'https://mx.indeed.com/Empleos-de-Vue-js-en-Metro-Ol%C3%ADmpica,-CDMX', 'urlPingSuffix': 'DevEx,5160.1', 'isFamilyFriendly': True, 'displayUrl': 'https://mx.indeed.com/Empleos-de-Vue-js-en-Metro-Olímpica,-CDMX', 'snippet': '65 empleos de: Vue js en Metro Olímpica, CDMX disponibles en Indeed.com.', 'dateLastCrawled': '2022-06-22T11:47:00.0000000Z', 'fixedPosition': False, 'language': 'es', 'isNavigational': False}, {'id': 'https://api.bing.microsoft.com/api/v7/#WebPages.4', 'name': 'Bolsa de trabajo de Librerías de $240,000 en Coyoacán, CDMX - 23 de ...', 'url': 'https://mx.indeed.com/Empleos-de-Librer%C3%ADas-de-$240,000-en-Coyoac%C3%A1n,-CDMX', 'urlPingSuffix': 'DevEx,5178.1', 'isFamilyFriendly': True, 'displayUrl': 'https://mx.indeed.com/Empleos-de-Librerías-de-$240,000-en-Coyoacán,-CDMX', 'snippet': 'Experiencia sólida en programación en Phyton y SQL. Conocimiento sólido en extracción , transformación , carga de datos , manejo de estructuras de datos,…', 'dateLastCrawled': '2022-06-23T18:09:00.0000000Z', 'fixedPosition': False, 'language': 'es', 'isNavigational': False}, {'id': 'https://api.bing.microsoft.com/api/v7/#WebPages.5', 'name': 'Empleos de react $250,000 en Metro Colegio Militar, CDMX', 'url': 'https://mx.indeed.com/Empleos-de-react-$250,000-en-metro-colegio-militar,-cdmx', 'urlPingSuffix': 'DevEx,5195.1', 'isFamilyFriendly': True, 'displayUrl': 'https://mx.indeed.com/Empleos-de-react-$250,000-en-metro-colegio-militar,-cdmx', 'snippet': '217 empleos de: React $250,000 en Metro Colegio Militar, CDMX disponibles en Indeed.com.', 'dateLastCrawled': '2022-06-25T00:22:00.0000000Z', 'fixedPosition': False, 'language': 'es', 'isNavigational': False}, {'id': 'https://api.bing.microsoft.com/api/v7/#WebPages.6', 'name': 'Bolsa de trabajo de Desarrollador paginas web $510,000 - 25 de junio ...', 'url': 'https://mx.indeed.com/Empleos-de-Desarrollador-Paginas-Web-$510,000', 'urlPingSuffix': 'DevEx,5212.1', 'isFamilyFriendly': True, 'displayUrl': 'https://mx.indeed.com/Empleos-de-Desarrollador-Paginas-Web-$510,000', 'snippet': '21 empleos de: Desarrollador paginas web $510,000 disponibles en Indeed.com.', 'dateLastCrawled': '2022-06-25T21:34:00.0000000Z', 'fixedPosition': False, 'language': 'es', 'isNavigational': False}, {'id': 'https://api.bing.microsoft.com/api/v7/#WebPages.7', 'name': 'Bolsa de trabajo de Envía flores $200,000 - 24 de junio, 2022 | Indeed ...', 'url': 'https://mx.indeed.com/Empleos-de-Env%C3%ADa-flores-$200,000', 'urlPingSuffix': 'DevEx,5229.1', 'isFamilyFriendly': True, 'displayUrl': 'https://mx.indeed.com/Empleos-de-Envía-flores-$200,000', 'snippet': '15 empleos de: Envía flores $200,000 disponibles en Indeed.com.', 'dateLastCrawled': '2022-06-24T07:26:00.0000000Z', 'fixedPosition': False, 'language': 'es', 'isNavigational': False}, {'id': 'https://api.bing.microsoft.com/api/v7/#WebPages.8', 'name': 'Empleos de embebidos $130,000 en Metro Colegio Militar, CDMX', 'url': 'https://mx.indeed.com/Empleos-de-embebidos-$130,000-en-metro-colegio-militar,-cdmx', 'urlPingSuffix': 'DevEx,5246.1', 'isFamilyFriendly': True, 'displayUrl': 'https://mx.indeed.com/Empleos-de-embebidos-$130,000-en-metro-colegio-militar,-cdmx', 'snippet': '9 empleos de: Embebidos $130,000 en Metro Colegio Militar, CDMX disponibles en Indeed.com.', 'dateLastCrawled': '2022-06-24T06:48:00.0000000Z', 'fixedPosition': False, 'language': 'es', 'isNavigational': False}]\n"
          ]
        }
      ]
    }
  ]
}